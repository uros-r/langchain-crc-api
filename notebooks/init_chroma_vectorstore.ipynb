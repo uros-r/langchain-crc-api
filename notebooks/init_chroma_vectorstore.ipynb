{
 "cells": [
  {
   "cell_type": "code",
   "execution_count": 1,
   "metadata": {},
   "outputs": [],
   "source": [
    "import sys\n",
    "\"../\" in sys.path or sys.path.append(\"../\")\n",
    "\n",
    "from crc_api import config, crc\n",
    "\n",
    "%load_ext autoreload\n",
    "%autoreload 2"
   ]
  },
  {
   "cell_type": "code",
   "execution_count": 2,
   "metadata": {},
   "outputs": [],
   "source": [
    "from langchain.document_loaders import PyPDFLoader\n",
    "\n",
    "loader = PyPDFLoader(config.AI_REPORT_PDF_PATH)\n",
    "documents = loader.load()"
   ]
  },
  {
   "cell_type": "code",
   "execution_count": 5,
   "metadata": {},
   "outputs": [],
   "source": [
    "if input(\n",
    "    f\"Load doc(s) into vectorstore {config.AI_REPORT_CHROMADB_DIRECTORY}? (y/n)\"\n",
    ").strip().lower() == \"y\":\n",
    "    crc.populate_vectorstore(\n",
    "        config.OPENAI_API_KEY,\n",
    "        config.AI_REPORT_CHROMADB_DIRECTORY,\n",
    "        documents=documents,\n",
    "    )"
   ]
  },
  {
   "cell_type": "code",
   "execution_count": 3,
   "metadata": {},
   "outputs": [],
   "source": [
    "retriever = crc.create_retriever(config.OPENAI_API_KEY, config.AI_REPORT_CHROMADB_DIRECTORY)\n",
    "docs = retriever.get_relevant_documents(\"How many AI publications were there in 2021?\")\n",
    "assert len(docs) == 2"
   ]
  },
  {
   "cell_type": "code",
   "execution_count": null,
   "metadata": {},
   "outputs": [],
   "source": []
  }
 ],
 "metadata": {
  "kernelspec": {
   "display_name": ".venv",
   "language": "python",
   "name": "python3"
  },
  "language_info": {
   "codemirror_mode": {
    "name": "ipython",
    "version": 3
   },
   "file_extension": ".py",
   "mimetype": "text/x-python",
   "name": "python",
   "nbconvert_exporter": "python",
   "pygments_lexer": "ipython3",
   "version": "3.10.7"
  },
  "orig_nbformat": 4
 },
 "nbformat": 4,
 "nbformat_minor": 2
}
