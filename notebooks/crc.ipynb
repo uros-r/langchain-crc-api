{
 "cells": [
  {
   "cell_type": "code",
   "execution_count": 2,
   "metadata": {},
   "outputs": [],
   "source": [
    "import sys\n",
    "\"..\" in sys.path or sys.path.append(\"..\")\n",
    "\n",
    "from crc_api import config, crc\n",
    "\n",
    "%load_ext autoreload\n",
    "%autoreload 2"
   ]
  },
  {
   "cell_type": "code",
   "execution_count": 3,
   "metadata": {},
   "outputs": [],
   "source": [
    "retriever = crc.create_retriever(\n",
    "    config.OPENAI_API_KEY,\n",
    "    persist_directory=config.AI_REPORT_CHROMADB_DIRECTORY\n",
    ")"
   ]
  },
  {
   "cell_type": "code",
   "execution_count": 4,
   "metadata": {},
   "outputs": [
    {
     "name": "stdout",
     "output_type": "stream",
     "text": [
      "**Question:** {'lc': 1, 'type': 'not_implemented', 'id': ['langchain', 'vectorstores', 'base', 'VectorStoreRetriever']}\n",
      "Chapter 1 Preview 17\n",
      "Artificial Intelligence\n",
      "Index Report 2023\n",
      "AI Conference Publications\n",
      "Overview\n",
      "The number of AI conference publications peaked in 2019, and fell 20.4% below the peak in 2021 (Figure 1.1.13). \n",
      "The total number of 2021 AI conference publications, 85,094, was marginally greater than the 2010 total of 75,592.1.1 PublicationsChapter 1: Research and Development\n",
      "85.09\n",
      "2010 2011 2012 2013 2014 2015 2016 2017 2018 2019 2020 2021020406080100Number of AI Conference Publications (in Thousands)Number of AI Conference Publications, 2010–21\n",
      "Source: Center for Security and Emerging Technology, 2022 | Chart: 2023 AI Index Report\n",
      "Figure 1.1.13\n",
      "Chapter 1 Preview 5\n",
      "496.01\n",
      "2010 2011 2012 2013 2014 2015 2016 2017 2018 2019 2020 20210100200300400500Number of AI Publications (in Thousands)Number of AI Publications in the World, 2010–21 \n",
      "Source: Center for Security and Emerging Technology, 2022 | Chart: 2023 AI Index Report Artificial Intelligence\n",
      "Index Report 2023\n",
      "Overview\n",
      "The figures below capture the total number \n",
      "of English-language and Chinese-language AI \n",
      "publications globally from 2010 to 2021—by type, \n",
      "affiliation, cross-country collaboration, and cross-\n",
      "industry collaboration. The section also breaks down 1.1 Publications\n",
      "publication and citation data by region for AI journal \n",
      "articles, conference papers, repositories, and patents.\n",
      "Total Number of AI Publications\n",
      "Figure 1.1.1 shows the number of AI publications in \n",
      "the world. From 2010 to 2021, the total number of \n",
      "AI publications more than doubled, growing from \n",
      "200,000 in 2010 to almost 500,000 in 2021.\n",
      "1 See the Appendix for more information on CSET’s methodology. For more on the challenge of defining AI and correctly capturing relevant bibliometric data, see the AI Index team’s \n",
      "discussion in the paper “Measurement in AI Policy: Opportunities and Challenges.”This section draws on data from the Center for Security and Emerging Technology (CSET) at Georgetown University. CSET maintains a \n",
      "merged corpus of scholarly literature that includes Digital Science’s Dimensions, Clarivate’s Web of Science, Microsoft Academic Graph, \n",
      "China National Knowledge Infrastructure, arXiv, and Papers With Code. In that corpus, CSET applied a classifier to identify English-\n",
      "language publications related to the development or application of AI and ML since 2010. For this year’s report, CSET also used select \n",
      "Chinese AI keywords to identify Chinese-language AI papers; CSET did not deploy this method for previous iterations of the AI Index report.1\n",
      "In last year’s edition of the report, publication trends were reported up to the year 2021. However, given that there is a significant lag in the \n",
      "collection of publication metadata, and that in some cases it takes until the middle of any given year to fully capture the previous year’s \n",
      "publications, in this year’s report, the AI Index team elected to examine publication trends only through 2021, which we, along with CSET, \n",
      "are confident yields a more fully representative report.1.1 PublicationsChapter 1: Research and Development\n",
      "Figure 1.1.1\n",
      "The total number of AI publications in the year 2021 was almost 500,000."
     ]
    }
   ],
   "source": [
    "conversation_id = \"234\"\n",
    "question = \"How many AI publications were there in the year 2021?\"\n",
    "\n",
    "crc.get_answer(\n",
    "    config.OPENAI_API_KEY,\n",
    "    retriever,\n",
    "    conversation_id=conversation_id,\n",
    "    question=question,\n",
    ");"
   ]
  },
  {
   "cell_type": "code",
   "execution_count": 5,
   "metadata": {},
   "outputs": [
    {
     "name": "stdout",
     "output_type": "stream",
     "text": [
      "{\"content\": \"Chapter 1 Preview 17\\nArtificial Intelligence\\nIndex Report 2023\\nAI Conference Publications\\nOverview\\nThe number of AI conference publications peaked in 2019, and fell 20.4% below the peak in 2021 (Figure 1.1.13). \\nThe total number of 2021 AI conference publications, 85,094, was marginally greater than the 2010 total of 75,592.1.1 PublicationsChapter 1: Research and Development\\n85.09\\n2010 2011 2012 2013 2014 2015 2016 2017 2018 2019 2020 2021020406080100Number of AI Conference Publications (in Thousands)Number of AI Conference Publications, 2010\\u201321\\nSource: Center for Security and Emerging Technology, 2022 | Chart: 2023 AI Index Report\\nFigure 1.1.13\"}\n",
      "{\"content\": \"Chapter 1 Preview 5\\n496.01\\n2010 2011 2012 2013 2014 2015 2016 2017 2018 2019 2020 20210100200300400500Number of AI Publications (in Thousands)Number of AI Publications in the World, 2010\\u201321 \\nSource: Center for Security and Emerging Technology, 2022 | Chart: 2023 AI Index Report Artificial Intelligence\\nIndex Report 2023\\nOverview\\nThe figures below capture the total number \\nof English-language and Chinese-language AI \\npublications globally from 2010 to 2021\\u2014by type, \\naffiliation, cross-country collaboration, and cross-\\nindustry collaboration. The section also breaks down 1.1 Publications\\npublication and citation data by region for AI journal \\narticles, conference papers, repositories, and patents.\\nTotal Number of AI Publications\\nFigure 1.1.1 shows the number of AI publications in \\nthe world. From 2010 to 2021, the total number of \\nAI publications more than doubled, growing from \\n200,000 in 2010 to almost 500,000 in 2021.\\n1 See the Appendix for more information on CSET\\u2019s methodology. For more on the challenge of defining AI and correctly capturing relevant bibliometric data, see the AI Index team\\u2019s \\ndiscussion in the paper \\u201cMeasurement in AI Policy: Opportunities and Challenges.\\u201dThis section draws on data from the Center for Security and Emerging Technology (CSET) at Georgetown University. CSET maintains a \\nmerged corpus of scholarly literature that includes Digital Science\\u2019s Dimensions, Clarivate\\u2019s Web of Science, Microsoft Academic Graph, \\nChina National Knowledge Infrastructure, arXiv, and Papers With Code. In that corpus, CSET applied a classifier to identify English-\\nlanguage publications related to the development or application of AI and ML since 2010. For this year\\u2019s report, CSET also used select \\nChinese AI keywords to identify Chinese-language AI papers; CSET did not deploy this method for previous iterations of the AI Index report.1\\nIn last year\\u2019s edition of the report, publication trends were reported up to the year 2021. However, given that there is a significant lag in the \\ncollection of publication metadata, and that in some cases it takes until the middle of any given year to fully capture the previous year\\u2019s \\npublications, in this year\\u2019s report, the AI Index team elected to examine publication trends only through 2021, which we, along with CSET, \\nare confident yields a more fully representative report.1.1 PublicationsChapter 1: Research and Development\\nFigure 1.1.1\"}\n",
      "------[RESPONSE BOUNDARY]------\n",
      "The total number of AI publications in the year 2021 was almost 500,000."
     ]
    }
   ],
   "source": [
    "conversation_id = \"123\"\n",
    "question = \"How many AI publications were there in the year 2021?\"\n",
    "# question = \"Roughly, what would be half of this amount?\"\n",
    "# question = \"What were top 3 AI trends in 2021? Give a paragraph for each to describe them.\"\n",
    "\n",
    "async def print_tokens():\n",
    "    async for token in crc.get_answer_async(\n",
    "        config.OPENAI_API_KEY,\n",
    "        retriever,\n",
    "        conversation_id=conversation_id,\n",
    "        question=question,\n",
    "    ):\n",
    "        print(token, end=\"\")\n",
    "\n",
    "await print_tokens()"
   ]
  },
  {
   "cell_type": "code",
   "execution_count": null,
   "metadata": {},
   "outputs": [],
   "source": []
  }
 ],
 "metadata": {
  "kernelspec": {
   "display_name": ".venv",
   "language": "python",
   "name": "python3"
  },
  "language_info": {
   "codemirror_mode": {
    "name": "ipython",
    "version": 3
   },
   "file_extension": ".py",
   "mimetype": "text/x-python",
   "name": "python",
   "nbconvert_exporter": "python",
   "pygments_lexer": "ipython3",
   "version": "3.10.7"
  },
  "orig_nbformat": 4
 },
 "nbformat": 4,
 "nbformat_minor": 2
}
